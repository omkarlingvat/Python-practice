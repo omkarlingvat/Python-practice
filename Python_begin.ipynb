{
 "cells": [
  {
   "cell_type": "code",
   "execution_count": 2,
   "id": "1b8f2d0e-917f-4688-aafe-49dcd566cf58",
   "metadata": {},
   "outputs": [
    {
     "name": "stdout",
     "output_type": "stream",
     "text": [
      "Enter n :  5\n"
     ]
    }
   ],
   "source": [
    "n = input(\"Enter n : \")\n"
   ]
  },
  {
   "cell_type": "code",
   "execution_count": 2,
   "id": "140239b7-3284-41bb-97ba-ae9ce6232c4d",
   "metadata": {},
   "outputs": [
    {
     "name": "stdout",
     "output_type": "stream",
     "text": [
      "name\n",
      "Omkar\n",
      "5\n",
      "11.5\n",
      "1.5\n"
     ]
    }
   ],
   "source": [
    "name=\"Omkar\"\n",
    "a=5\n",
    "b=6.5\n",
    "print(\"name\")\n",
    "print(name)\n",
    "print(a)\n",
    "print(a+b)\n",
    "\n",
    "sub = b-a\n",
    "print(sub)"
   ]
  },
  {
   "cell_type": "code",
   "execution_count": 3,
   "id": "76d6d0da-9032-403d-8085-c1475414c049",
   "metadata": {},
   "outputs": [
    {
     "name": "stdout",
     "output_type": "stream",
     "text": [
      "<class 'str'>\n",
      "<class 'int'>\n",
      "<class 'float'>\n"
     ]
    }
   ],
   "source": [
    "print(type(name))\n",
    "print(type(a))\n",
    "print(type(b))"
   ]
  },
  {
   "cell_type": "code",
   "execution_count": 24,
   "id": "abda3e8a-af16-4201-bc41-c6a8cede266f",
   "metadata": {},
   "outputs": [
    {
     "name": "stdout",
     "output_type": "stream",
     "text": [
      "Enter first no. :  6\n",
      "Enter second no. :  7\n"
     ]
    },
    {
     "name": "stdout",
     "output_type": "stream",
     "text": [
      "13\n"
     ]
    }
   ],
   "source": [
    "var1 = int(input(\"Enter first no. : \"))\n",
    "var2 = int(input(\"Enter second no. : \"))\n",
    "\n",
    "Add = var1 + var2\n",
    "print(Add)"
   ]
  },
  {
   "cell_type": "code",
   "execution_count": 23,
   "id": "952f4ccb-a188-4a4c-b378-b864da3e86a6",
   "metadata": {},
   "outputs": [
    {
     "name": "stdout",
     "output_type": "stream",
     "text": [
      "Enter item: Parle\n",
      "Enter id: 56\n",
      "Price: 2.33\n"
     ]
    },
    {
     "name": "stdout",
     "output_type": "stream",
     "text": [
      "Item is Parle with ID  56 and price is 2.33\n"
     ]
    }
   ],
   "source": [
    "item = input(\"Enter item:\")\n",
    "id = int(input(\"Enter id:\"))\n",
    "Price = float(input(\"Price:\"))\n",
    "print(\"Item is\",item,\"with ID \",id,\"and price is\",Price)"
   ]
  },
  {
   "cell_type": "code",
   "execution_count": 32,
   "id": "c14c7592-8c44-4435-bf7a-4b3d8a6c8c55",
   "metadata": {},
   "outputs": [
    {
     "name": "stdout",
     "output_type": "stream",
     "text": [
      "Enter Marks : 75\n"
     ]
    },
    {
     "name": "stdout",
     "output_type": "stream",
     "text": [
      "B\n"
     ]
    }
   ],
   "source": [
    "marks = int(input(\"Enter Marks :\"))\n",
    "if (marks >= 90):\n",
    "    print(\"A\")\n",
    "elif(marks>=65 and marks <90):\n",
    "    print(\"B\")\n",
    "elif(marks>=40 and marks <65):\n",
    "    print(\"C\")\n",
    "else:\n",
    "    print(\"D\")\n",
    "            "
   ]
  },
  {
   "cell_type": "code",
   "execution_count": 40,
   "id": "40feb5fb-2e9e-4d4a-8b7e-a4d9c0984996",
   "metadata": {},
   "outputs": [
    {
     "name": "stdout",
     "output_type": "stream",
     "text": [
      "Enter food klk\n"
     ]
    },
    {
     "name": "stdout",
     "output_type": "stream",
     "text": [
      "not sweet\n"
     ]
    }
   ],
   "source": [
    "#conditional statements\n",
    "#Single line IF / Ternary Operator ---  <var> = <value1> if <condition> else <Value2>\n",
    "\n",
    "# food = input(\"Enter food\")\n",
    "# eat = \"Yes\" if food == \"cake\" else \"no\"\n",
    "# print(eat)\n",
    "\n",
    "# <statement1> if <condition> else <statement2>\n",
    "\n",
    "food1 =input(\"Enter food\")\n",
    "print(\"sweet\") if food == \"cake\" or food == \"jalebi\" else print(\"not sweet\")\n"
   ]
  },
  {
   "cell_type": "code",
   "execution_count": 47,
   "id": "0532a896-7ea9-48f1-964b-c7d83dd7d061",
   "metadata": {},
   "outputs": [
    {
     "name": "stdout",
     "output_type": "stream",
     "text": [
      "AND Operation : False\n",
      "OR Operation : True\n"
     ]
    }
   ],
   "source": [
    "a= 4\n",
    "b= 6\n",
    "print(\"AND Operation :\", (a>b) and (a>b))\n",
    "\n",
    "print(\"OR Operation :\", (a>b) or (a<b))"
   ]
  },
  {
   "cell_type": "code",
   "execution_count": 49,
   "id": "a77fbddc-03eb-446a-b47a-eee07b4835b0",
   "metadata": {},
   "outputs": [
    {
     "name": "stdout",
     "output_type": "stream",
     "text": [
      "ENTER sq side: 5\n"
     ]
    },
    {
     "name": "stdout",
     "output_type": "stream",
     "text": [
      "area: 25\n"
     ]
    }
   ],
   "source": [
    "#Type conversion\n",
    "side = int(input(\"ENTER sq side:\"))\n",
    "print(\"area:\", side**2)\n"
   ]
  },
  {
   "cell_type": "code",
   "execution_count": 63,
   "id": "19828dd4-32e1-4a22-bbb8-9d26c21bdbd5",
   "metadata": {},
   "outputs": [],
   "source": [
    "str1= \"this is string\"\n",
    "str2='this is also str'\n",
    "str=\"\"\"this is also string\"\"\""
   ]
  },
  {
   "cell_type": "code",
   "execution_count": 64,
   "id": "88f4e47c-9d84-4173-b439-f736670b645e",
   "metadata": {},
   "outputs": [
    {
     "data": {
      "text/plain": [
       "'t'"
      ]
     },
     "execution_count": 64,
     "metadata": {},
     "output_type": "execute_result"
    }
   ],
   "source": [
    "len(str1)\n",
    "\n",
    "#index\n",
    "#Omkar\n",
    "#01234\n",
    "\n",
    "#negative index\n",
    "#omkar\n",
    "#-5-4-3-2-1\n",
    "\n",
    "chr = str[0]\n",
    "chr\n",
    "\n",
    "# we connot replace char in string like this .... str [3] = \"@\""
   ]
  },
  {
   "cell_type": "code",
   "execution_count": 76,
   "id": "35aef5f8-cb9e-4483-8cb9-6ea3bc2dfb85",
   "metadata": {},
   "outputs": [
    {
     "data": {
      "text/plain": [
       "'pna '"
      ]
     },
     "execution_count": 76,
     "metadata": {},
     "output_type": "execute_result"
    }
   ],
   "source": [
    "#slicing\n",
    "\n",
    "str = \"Apna college\"\n",
    "a= str[1:5]\n",
    "a"
   ]
  },
  {
   "cell_type": "code",
   "execution_count": 80,
   "id": "f3c058ee-703a-487a-ab4b-f34f05625f13",
   "metadata": {},
   "outputs": [
    {
     "name": "stdout",
     "output_type": "stream",
     "text": [
      "Apna\n",
      "college\n",
      "llege\n",
      "l\n",
      "eg\n"
     ]
    }
   ],
   "source": [
    "print(str[:4])\n",
    "print(str[5:])\n",
    "print(str[7:len(str)])\n",
    "\n",
    "print(str[-4])\n",
    "print(str[-3:-1])"
   ]
  },
  {
   "cell_type": "code",
   "execution_count": 92,
   "id": "7609651c-f05b-4985-b23e-b5fb87ef71b9",
   "metadata": {},
   "outputs": [
    {
     "data": {
      "text/plain": [
       "2"
      ]
     },
     "execution_count": 92,
     "metadata": {},
     "output_type": "execute_result"
    }
   ],
   "source": [
    "#string functions\n",
    "\n",
    "str= \"stufying python\"\n",
    "\n",
    "str.endswith(\"on\") # eturn true if string ends with substr\n",
    "str.capitalize() # Capitalize 1st char\n",
    "str.replace(\"stufying\",\"studying\") # Replaces new occurances with old\n",
    "str.find(\"o\") #gives index\n",
    "str.count(\"t\") # counts occurances of substr\n"
   ]
  },
  {
   "cell_type": "code",
   "execution_count": 103,
   "id": "89a21a73-c9f5-470a-aa4f-6cb9baf8ac27",
   "metadata": {},
   "outputs": [
    {
     "name": "stdout",
     "output_type": "stream",
     "text": [
      "Age: 14\n"
     ]
    },
    {
     "name": "stdout",
     "output_type": "stream",
     "text": [
      "not eligible\n"
     ]
    }
   ],
   "source": [
    "#nesting\n",
    "age = int(input(\"Age:\"))\n",
    "\n",
    "if (age>=18):\n",
    "    if (age>=80):\n",
    "        print(\"Cannot drive\")\n",
    "    else:\n",
    "        print(\"Can drive\")\n",
    "else:\n",
    "    print(\"not eligible\")"
   ]
  },
  {
   "cell_type": "code",
   "execution_count": 109,
   "id": "57cc7665-61d9-468a-861a-bbf9914ce0f0",
   "metadata": {},
   "outputs": [
    {
     "name": "stdout",
     "output_type": "stream",
     "text": [
      "Enter number: -1\n"
     ]
    },
    {
     "name": "stdout",
     "output_type": "stream",
     "text": [
      "Odd\n"
     ]
    }
   ],
   "source": [
    "num = int(input(\"Enter number:\"))\n",
    "if(num%2==0):\n",
    "    print(\"even\")\n",
    "else:\n",
    "    print(\"Odd\")"
   ]
  },
  {
   "cell_type": "code",
   "execution_count": 127,
   "id": "6e4c9846-f96b-43ed-b115-559e2ee1f4a8",
   "metadata": {},
   "outputs": [
    {
     "name": "stdout",
     "output_type": "stream",
     "text": [
      "Enter first no.: 9\n",
      "Enter sec no.: 2\n",
      "Enter thir no.: 13\n"
     ]
    },
    {
     "name": "stdout",
     "output_type": "stream",
     "text": [
      "13\n"
     ]
    }
   ],
   "source": [
    "a= int(input(\"Enter first no.:\"))\n",
    "b= int(input(\"Enter sec no.:\"))\n",
    "c= int(input(\"Enter thir no.:\"))\n",
    "d = []\n",
    "if(a>b and a>c):\n",
    "    print(a)\n",
    "elif(b>a and b>c):\n",
    "    print(b)\n",
    "elif(b<c and c>a):\n",
    "    print(c)\n",
    "else:\n",
    "    print(\"input whole number\")\n"
   ]
  },
  {
   "cell_type": "code",
   "execution_count": 133,
   "id": "79871506-9b3d-4fe2-8f09-cf26b2553fe0",
   "metadata": {},
   "outputs": [
    {
     "name": "stdout",
     "output_type": "stream",
     "text": [
      "Enter num: 56\n"
     ]
    },
    {
     "name": "stdout",
     "output_type": "stream",
     "text": [
      "divisible by 7\n"
     ]
    }
   ],
   "source": [
    "n = int(input(\"Enter num:\"))\n",
    "if(n%7==0):\n",
    "    print(\"divisible by 7\")\n",
    "else:\n",
    "    print(\"not divisible\")"
   ]
  },
  {
   "cell_type": "code",
   "execution_count": 163,
   "id": "3cc3d42a-5d62-4922-90d3-6b4277e40979",
   "metadata": {},
   "outputs": [
    {
     "name": "stdout",
     "output_type": "stream",
     "text": [
      "[4, 8, 12, 6, 2]\n"
     ]
    }
   ],
   "source": [
    "# List and Tupple\n",
    "#list is mutable and srting in immutable\n",
    "\n",
    "a1=4\n",
    "a2=8\n",
    "a3=9\n",
    "a4=6\n",
    "a5=2\n",
    "\n",
    "a =[4,8,9,6,2]\n",
    "a[0]\n",
    "\n",
    "a[2]=12\n",
    "\n",
    "b=[\"Omkar\",45,\"ok\",66]\n",
    "\n",
    "#index[0,1,2,2]\n",
    "#index[-4,-3,-2,-1]\n",
    "\n",
    "b[0]\n",
    "print(a)\n"
   ]
  },
  {
   "cell_type": "code",
   "execution_count": 158,
   "id": "0676a88e-3e13-46bd-b8e6-9f3b18c107d4",
   "metadata": {},
   "outputs": [
    {
     "name": "stdout",
     "output_type": "stream",
     "text": [
      "[45, 'ok']\n"
     ]
    }
   ],
   "source": [
    "b[3]\n",
    "\n",
    "print(b[1:3])"
   ]
  },
  {
   "cell_type": "code",
   "execution_count": 159,
   "id": "38a8c678-1d36-4736-9242-40364908d2e4",
   "metadata": {},
   "outputs": [
    {
     "ename": "SyntaxError",
     "evalue": "invalid syntax (148579195.py, line 10)",
     "output_type": "error",
     "traceback": [
      "\u001b[1;36m  Cell \u001b[1;32mIn[159], line 10\u001b[1;36m\u001b[0m\n\u001b[1;33m    .\u001b[0m\n\u001b[1;37m    ^\u001b[0m\n\u001b[1;31mSyntaxError\u001b[0m\u001b[1;31m:\u001b[0m invalid syntax\n"
     ]
    }
   ],
   "source": [
    "#List Method\n",
    "\n",
    "list.append() #adds one elmement at the end\n",
    "list.sort() #sort in ascending order\n",
    "list.sort(reverse = True) #sort in descending order\n",
    "list.reverse() #reverse list\n",
    "list.insert(index, element) # inserts element at indec\n",
    "list.remove(1) #removes first occurrence of elements\n",
    "list.pop(index) #remeove element at index\n",
    ".\n",
    ".\n",
    ".\n",
    ".\n",
    "\n"
   ]
  },
  {
   "cell_type": "code",
   "execution_count": 182,
   "id": "ce4cb196-abbb-46f6-98d9-b453e3388099",
   "metadata": {},
   "outputs": [
    {
     "name": "stdout",
     "output_type": "stream",
     "text": [
      "<class 'int'>\n",
      "<class 'tuple'>\n",
      "2\n",
      "1\n",
      "2\n"
     ]
    }
   ],
   "source": [
    "#Tuples - A built in data type that lets us create immutable sequences if values.... we us round bracket tuple = ()\n",
    "\n",
    "#tup=() \n",
    "\n",
    "tup = (1)\n",
    "print(type(tup))\n",
    "\n",
    "tupp = (1,)           #single element should be with ,\n",
    "print(type(tupp))\n",
    "\n",
    "tuple =(5,2,5,4,2,6)\n",
    "print(tuple[1])\n",
    "\n",
    "print(tuple.index(2)) # number 2 occurs on 1st index\n",
    "print(tuple.count(2))"
   ]
  },
  {
   "cell_type": "code",
   "execution_count": 181,
   "id": "2dbbaf89-fd6d-436c-8503-32871a3ecde8",
   "metadata": {},
   "outputs": [
    {
     "ename": "AttributeError",
     "evalue": "'int' object has no attribute 'index'",
     "output_type": "error",
     "traceback": [
      "\u001b[1;31m---------------------------------------------------------------------------\u001b[0m",
      "\u001b[1;31mAttributeError\u001b[0m                            Traceback (most recent call last)",
      "Cell \u001b[1;32mIn[181], line 3\u001b[0m\n\u001b[0;32m      1\u001b[0m \u001b[38;5;66;03m#Tuple methods \\\u001b[39;00m\n\u001b[1;32m----> 3\u001b[0m tup\u001b[38;5;241m.\u001b[39mindex(element) \u001b[38;5;66;03m#returns index of first occurence\u001b[39;00m\n\u001b[0;32m      4\u001b[0m tup\u001b[38;5;241m.\u001b[39mcount(element)\n",
      "\u001b[1;31mAttributeError\u001b[0m: 'int' object has no attribute 'index'"
     ]
    }
   ],
   "source": [
    "#Tuple methods \\\n",
    "\n",
    "tup.index(element) #returns index of first occurence\n",
    "tup.count(element) #counts total occurence\n",
    "\n"
   ]
  },
  {
   "cell_type": "code",
   "execution_count": 187,
   "id": "78809448-5b45-43e1-a633-ba974c809dcd",
   "metadata": {},
   "outputs": [
    {
     "name": "stdout",
     "output_type": "stream",
     "text": [
      "1st fav movie: gg\n",
      "2nd fav movie: hh\n",
      "3rd fav movie: jj\n"
     ]
    },
    {
     "name": "stdout",
     "output_type": "stream",
     "text": [
      "['gg', 'hh', 'jj']\n"
     ]
    }
   ],
   "source": [
    "# a=[]\n",
    "# n=input(\"1st fav movie:\")\n",
    "# a.append(n)\n",
    "# n=input(\"2nd fav movie:\")\n",
    "# a.append(n)\n",
    "# n=input(\"3rd fav movie:\")\n",
    "# a.append(n)\n",
    "# print(a)\n",
    "\n",
    "a=[]\n",
    "a.append(input(\"1st fav movie:\"))\n",
    "a.append(input(\"2nd fav movie:\"))\n",
    "a.append(input(\"3rd fav movie:\"))\n",
    "print(a)\n"
   ]
  },
  {
   "cell_type": "code",
   "execution_count": 191,
   "id": "0a7fbeac-300a-4d2a-ac07-9d3c4086d545",
   "metadata": {},
   "outputs": [
    {
     "name": "stdout",
     "output_type": "stream",
     "text": [
      "Enter a palindrome:  klklk\n"
     ]
    },
    {
     "name": "stdout",
     "output_type": "stream",
     "text": [
      "Palindrome\n"
     ]
    }
   ],
   "source": [
    "# n=input(\"Enter pallindrome:\")\n",
    "# n_copy= n.copy()  #string in immutable hence not correct\n",
    "# n_copy.reverse \n",
    "\n",
    "# if(n==n_copy):\n",
    "#     print(\"Palindrome\")\n",
    "# else:\n",
    "#     print(\"not palindrome\")\n",
    "\n",
    "n = input(\"Enter a palindrome: \")\n",
    "n_copy = n[::-1]  # Reverse the string using slicing\n",
    "\n",
    "if n == n_copy:\n",
    "    print(\"Palindrome\")\n",
    "else:\n",
    "    print(\"Not palindrome\")\n",
    "\n",
    "        "
   ]
  },
  {
   "cell_type": "code",
   "execution_count": 193,
   "id": "bf5ce7d2-0d13-4e2b-af93-1e7a0d91bbd9",
   "metadata": {},
   "outputs": [
    {
     "name": "stdout",
     "output_type": "stream",
     "text": [
      "Not palindrome\n"
     ]
    }
   ],
   "source": [
    "n = [1,2,1,2,1,2,1,2]\n",
    "copy_n = n.copy()\n",
    "copy_n.reverse()\n",
    "\n",
    "if (n==copy_n):\n",
    "     print(\"Palindrome\")\n",
    "else:\n",
    "    print(\"Not palindrome\")\n",
    "\n",
    "    "
   ]
  },
  {
   "cell_type": "code",
   "execution_count": 201,
   "id": "7aaf4c21-b1ea-4e2b-8cbf-54e75fea1688",
   "metadata": {},
   "outputs": [
    {
     "name": "stdout",
     "output_type": "stream",
     "text": [
      "3\n",
      "['a', 'a', 'a', 'b', 'b', 'c']\n"
     ]
    }
   ],
   "source": [
    "tup = ('c','b','a','a','a','b')\n",
    "print(tup.count('a'))\n",
    "n=len(tup)\n",
    "a=[]\n",
    "for i in range(0,n):\n",
    "    a.append(tup[i])\n",
    "\n",
    "a.sort()\n",
    "print(a)\n"
   ]
  },
  {
   "cell_type": "code",
   "execution_count": 215,
   "id": "cfd37efe-04c4-42f9-a61a-2ae313a0c901",
   "metadata": {},
   "outputs": [
    {
     "name": "stdout",
     "output_type": "stream",
     "text": [
      "Omkar\n",
      "Data\n",
      "{'name': 'Omkar', 'BE': 'Mechanical', 'ME': 'Design', 'Job': ' Mech', 'sub': ['Python', 'PowerBI', 'SQL'], 12.55: 55, 'job': 'Data', 'city': 'Mumbai'}\n"
     ]
    }
   ],
   "source": [
    "#Dictionary -- it is use to store data values in key:value pairs --- they are unordered, mutable,and dont allow duplicate keys\n",
    "\n",
    "info = {\n",
    "    \"name\" : \"Omkar\",\n",
    "    \"BE\" : \"Mechanical\",\n",
    "    \"ME\" : \"Design\",\n",
    "    \"Job\" : \" Mech\" ,\n",
    "    \"sub\" : [\"Python\",\"PowerBI\",\"SQL\"],\n",
    "    12.55 : 55\n",
    "}\n",
    "#print(info)\n",
    "\n",
    "print(info[\"name\"])\n",
    "\n",
    "info[\"job\"]=\"Data\"\n",
    "print(info[\"job\"])\n",
    "\n",
    "info[\"city\"] = \"Mumbai\"\n",
    "\n",
    "print(info)\n"
   ]
  },
  {
   "cell_type": "code",
   "execution_count": 217,
   "id": "e0a5ee14-06cd-4bb5-8fb9-bab0c0693500",
   "metadata": {},
   "outputs": [
    {
     "name": "stdout",
     "output_type": "stream",
     "text": [
      "{'NAME': 'Om'}\n"
     ]
    }
   ],
   "source": [
    "#Null dict\n",
    "\n",
    "null_dic = {}\n",
    "\n",
    "null_dic[\"NAME\"] = \"Om\"\n",
    "print(null_dic)"
   ]
  },
  {
   "cell_type": "code",
   "execution_count": 229,
   "id": "b0e0a811-2169-4595-acce-47ca49e7b8b3",
   "metadata": {},
   "outputs": [
    {
     "name": "stdout",
     "output_type": "stream",
     "text": [
      "78\n",
      "{'name': 'Omkar', 'Subject': {'Phy': '84', 'Chem': '78'}, 'City': 'MUMBAI', 'state': 'MH'}\n"
     ]
    }
   ],
   "source": [
    "#NEsted dict\n",
    "\n",
    "info = {\n",
    "    \"name\":\"Omkar\",\n",
    "    \"Subject\": {\n",
    "                \"Phy\":\"84\",\n",
    "                \"Chem\":\"78\"\n",
    "               },\n",
    "    \"City\":\"MUMBAI\"\n",
    "}\n",
    "\n",
    "# print(info)\n",
    "\n",
    "print(info[\"Subject\"][\"Chem\"])\n",
    "\n",
    "info.update({\"state\":\"MH\"})\n",
    "\n",
    "print(info)"
   ]
  },
  {
   "cell_type": "code",
   "execution_count": null,
   "id": "f630938a-5bb4-49b0-bf33-eeb9cb436f3b",
   "metadata": {},
   "outputs": [],
   "source": [
    "#dictionary methods\n",
    "\n",
    "myDict.keys() #returns all keys\n",
    "myDict.values() #returns all values\n",
    "myDict.items() #returns all (key,Val) pairs as tuples\n",
    "myDict.get(\"key\") #returns the key accordingto values --- returns none value if key does not exists\n",
    "myDict.update({newDict}) #inserts the specified items to the dictiionary"
   ]
  },
  {
   "cell_type": "code",
   "execution_count": null,
   "id": "ac587eb4-8b2d-4409-838b-d2e04e998376",
   "metadata": {},
   "outputs": [],
   "source": [
    "#SETS in python\n",
    "#SETS is collection of unorederd items---SETS is Mutable --- each element in the SET must be unique and immutable--- we can store int,float,Tuple etc \n",
    "# but cannot store :LIST and DICTIONALRY\n",
    "\n",
    "#repeated elements is stored only once... eg. set = {1,2,2} ----but its is stored as {1,2}\n"
   ]
  },
  {
   "cell_type": "code",
   "execution_count": 235,
   "id": "7b7ea89b-3118-430b-9cc9-9ce605562491",
   "metadata": {},
   "outputs": [
    {
     "name": "stdout",
     "output_type": "stream",
     "text": [
      "{1, 2, 5, 'omkar'}\n",
      "<class 'set'>\n",
      "4\n"
     ]
    }
   ],
   "source": [
    "collect = {1,2,\"omkar\",2,1,5}\n",
    "\n",
    "print(collect)\n",
    "print(type(collect))\n",
    "print(len(collect))\n",
    "\n",
    "# empty_set = set()"
   ]
  },
  {
   "cell_type": "code",
   "execution_count": null,
   "id": "f74b2efe-670c-423a-bb73-f90213e3a389",
   "metadata": {},
   "outputs": [],
   "source": [
    "# SET METHODS\n",
    "\n",
    "set.add(element) #add an element\n",
    "set.removes(ele) #removes the element\n",
    "set.clear() #empties the set\n",
    "set.pop() # removes a randome value\n",
    "\n",
    "set.union(set2)\n",
    "set.intersection(set2)"
   ]
  },
  {
   "cell_type": "code",
   "execution_count": 245,
   "id": "8ac4292c-f015-4817-9353-d658c193c623",
   "metadata": {},
   "outputs": [
    {
     "name": "stdout",
     "output_type": "stream",
     "text": [
      "{1, 2, 'omkar', 7, (55, 44, 66, 55)}\n",
      "{1, 2, 'omkar', (55, 44, 66, 55)}\n",
      "{2, 'omkar', (55, 44, 66, 55)}\n"
     ]
    }
   ],
   "source": [
    "colle = set()\n",
    "\n",
    "colle.add(1)\n",
    "colle.add(2)\n",
    "colle.add(1)\n",
    "colle.add(\"omkar\")\n",
    "colle.add((55,44,66,55))\n",
    "colle.add(7)\n",
    "\n",
    "# colle.add([1,2,3]) --- cannot add list since it is immutable\n",
    "\n",
    "print(colle)\n",
    "\n",
    "colle.remove(7)\n",
    "print(colle)\n",
    "\n",
    "colle.pop()\n",
    "print(colle)"
   ]
  },
  {
   "cell_type": "code",
   "execution_count": 246,
   "id": "5dfe7f7f-1354-4bd0-a1bb-0d0835ed28f5",
   "metadata": {},
   "outputs": [
    {
     "name": "stdout",
     "output_type": "stream",
     "text": [
      "{'omkar', (55, 44, 66, 55)}\n"
     ]
    }
   ],
   "source": [
    "colle.pop()\n",
    "print(colle)"
   ]
  },
  {
   "cell_type": "code",
   "execution_count": 248,
   "id": "ea7aebcf-d7a7-4d07-839a-3cab3fa63e6e",
   "metadata": {},
   "outputs": [
    {
     "name": "stdout",
     "output_type": "stream",
     "text": [
      "(55, 44, 66, 55)\n"
     ]
    }
   ],
   "source": [
    "\n",
    "print(colle.pop())"
   ]
  },
  {
   "cell_type": "code",
   "execution_count": 251,
   "id": "4b949689-7165-44a4-930e-edd0bf414cc5",
   "metadata": {},
   "outputs": [
    {
     "name": "stdout",
     "output_type": "stream",
     "text": [
      "{1, 2, 3, 4, 5, 7, 8, 9}\n",
      "{1, 2}\n"
     ]
    }
   ],
   "source": [
    "set1 = {1,2,3,4,4}\n",
    "set2 = {1,2,5,9,8,7}\n",
    "\n",
    "print(set1.union(set2))\n",
    "print(set1.intersection(set2))\n"
   ]
  },
  {
   "cell_type": "code",
   "execution_count": 255,
   "id": "19f63b6a-f2bd-4814-8064-7d722ca033ff",
   "metadata": {},
   "outputs": [
    {
     "name": "stdout",
     "output_type": "stream",
     "text": [
      "{'table': ['a piece of furntiture', 'list of facts and figure'], 'cat': 'animal'}\n"
     ]
    }
   ],
   "source": [
    "Meaning = {\n",
    "    \"table\":[\"a piece of furntiture\",\"list of facts and figure\"],\n",
    "    \"cat\":\"animal\"\n",
    "}\n",
    "\n",
    "print(Meaning)\n"
   ]
  },
  {
   "cell_type": "code",
   "execution_count": 265,
   "id": "eb01b510-3b03-4371-be3e-7b3d0a139e36",
   "metadata": {},
   "outputs": [
    {
     "name": "stdout",
     "output_type": "stream",
     "text": [
      "4\n"
     ]
    }
   ],
   "source": [
    "sub ={\"python\",\"java\",\"c\",\"python\",\"c\",\"javascript\"}\n",
    "print(len(sub))\n",
    "\n"
   ]
  },
  {
   "cell_type": "code",
   "execution_count": 270,
   "id": "d3efa7f7-4fca-49b0-8943-b2c95be0ce66",
   "metadata": {},
   "outputs": [
    {
     "name": "stdout",
     "output_type": "stream",
     "text": [
      "Enter phy marks:  7\n",
      "Enter che marks:  5\n",
      "Enter maths marks:  96\n"
     ]
    },
    {
     "name": "stdout",
     "output_type": "stream",
     "text": [
      "{'phy marks': 7, 'che marks': 5, 'maths marks': 96}\n"
     ]
    }
   ],
   "source": [
    "emp_dic = {}\n",
    "\n",
    "phy = int(input(\"Enter phy marks: \"))\n",
    "emp_dic.update({\"phy marks\": phy})\n",
    "\n",
    "che = int(input(\"Enter che marks: \"))\n",
    "emp_dic.update({\"che marks\": che})\n",
    "\n",
    "maths = int(input(\"Enter maths marks: \"))\n",
    "emp_dic.update({\"maths marks\": maths})\n",
    "\n",
    "print(emp_dic)"
   ]
  },
  {
   "cell_type": "code",
   "execution_count": 275,
   "id": "34f8d3a3-ffbe-4246-a6a6-136f398b1e6e",
   "metadata": {},
   "outputs": [
    {
     "name": "stdout",
     "output_type": "stream",
     "text": [
      "{9}\n",
      "{('float', 9.0), ('int', 9)}\n"
     ]
    }
   ],
   "source": [
    "value = {9,9.0}\n",
    "print(value)\n",
    "\n",
    "values = {(\"float\",9.0),(\"int\",9)}\n",
    "print(values)"
   ]
  },
  {
   "cell_type": "code",
   "execution_count": null,
   "id": "6538b21f-a00b-4df7-a7df-774f55da4483",
   "metadata": {},
   "outputs": [],
   "source": []
  },
  {
   "cell_type": "code",
   "execution_count": 280,
   "id": "d779f274-5440-4850-94b6-02dad0e82010",
   "metadata": {},
   "outputs": [
    {
     "name": "stdout",
     "output_type": "stream",
     "text": [
      "1\n",
      "2\n",
      "3\n",
      "4\n",
      "5\n",
      "10\n",
      "9\n",
      "8\n",
      "7\n",
      "6\n",
      "5\n",
      "4\n",
      "3\n",
      "2\n",
      "1\n"
     ]
    }
   ],
   "source": [
    "#Loops in python\n",
    "# Loops are use to repeat instructions\n",
    "\n",
    "count = 1\n",
    "while count <=5:\n",
    "    print(count)\n",
    "    count+=1\n",
    "\n",
    "i = 10\n",
    "while i>=1:\n",
    "    print(i)\n",
    "    i-=1\n",
    "\n"
   ]
  },
  {
   "cell_type": "code",
   "execution_count": 282,
   "id": "53e01df8-a1ff-49cb-83e6-b01d19d5f374",
   "metadata": {},
   "outputs": [
    {
     "name": "stdout",
     "output_type": "stream",
     "text": [
      "N: 5\n"
     ]
    },
    {
     "name": "stdout",
     "output_type": "stream",
     "text": [
      "5\n",
      "10\n",
      "15\n",
      "20\n",
      "25\n",
      "30\n",
      "35\n",
      "40\n",
      "45\n",
      "50\n"
     ]
    }
   ],
   "source": [
    "n= int(input(\"N:\"))\n",
    "i=1\n",
    "while i<=10:\n",
    "    print(n*i)\n",
    "    i+=1"
   ]
  },
  {
   "cell_type": "code",
   "execution_count": 296,
   "id": "84ab6943-5565-4195-8852-bcc079539d58",
   "metadata": {},
   "outputs": [
    {
     "name": "stdout",
     "output_type": "stream",
     "text": [
      "1\n",
      "2\n",
      "3\n",
      "1\n",
      "4\n",
      "5\n",
      "5\n"
     ]
    }
   ],
   "source": [
    "a=[1,2,3,1,4,5,5]\n",
    "i=0\n",
    "while i<=len(a)-1:\n",
    "    print(a[i])\n",
    "    i+=1"
   ]
  },
  {
   "cell_type": "code",
   "execution_count": 303,
   "id": "f4f60f87-9306-42dc-9a0e-d228b1f7182b",
   "metadata": {},
   "outputs": [
    {
     "name": "stdout",
     "output_type": "stream",
     "text": [
      "Enter a no between 1-10: 5\n"
     ]
    },
    {
     "name": "stdout",
     "output_type": "stream",
     "text": [
      "index: 4\n"
     ]
    }
   ],
   "source": [
    "a=(1,2,3,4,5,6,7,8,9,10)\n",
    "\n",
    "n=int(input(\"Enter a no between 1-10:\"))\n",
    "i=0\n",
    "while i<=len(a)-1:\n",
    "    if a[i]==n:\n",
    "        print(\"index:\",i)   \n",
    "    i+=1\n",
    "    \n"
   ]
  },
  {
   "cell_type": "code",
   "execution_count": 307,
   "id": "8606214b-a58e-47c2-b781-8405309b99c2",
   "metadata": {},
   "outputs": [
    {
     "name": "stdout",
     "output_type": "stream",
     "text": [
      "1\n",
      "2\n",
      "3\n",
      "4\n",
      "5\n",
      "5\n"
     ]
    }
   ],
   "source": [
    "#Keyword--BREAK---CONTINUE(acts as skip)\n",
    "\n",
    "# a=[1,2,3,1,4,5,5]\n",
    "# i=0\n",
    "# while i<=len(a)-1:\n",
    "#     if i==3:\n",
    "#         break\n",
    "#     print(a[i])\n",
    "#     i+=1\n",
    "\n",
    "a=[1,2,3,1,4,5,5]\n",
    "i=0\n",
    "while i<=len(a)-1:\n",
    "    if i==3:\n",
    "        i+=1\n",
    "        continue\n",
    "    print(a[i])\n",
    "    i+=1\n",
    "\n"
   ]
  },
  {
   "cell_type": "code",
   "execution_count": 309,
   "id": "2540d29f-ecdc-425e-b326-7198b0cbf5bb",
   "metadata": {},
   "outputs": [
    {
     "name": "stdout",
     "output_type": "stream",
     "text": [
      "potato\n",
      "brinjal\n",
      "ladyfinger\n",
      "cucumber\n",
      "o\n",
      "m\n",
      "k\n",
      "a\n",
      "r\n"
     ]
    }
   ],
   "source": [
    "#FOR LOOP ---Loops are used for sequential traversal for traversing list,string,tuples etc\n",
    "\n",
    "veggies =[\"potato\",\"brinjal\",\"ladyfinger\",\"cucumber\"]\n",
    "\n",
    "for i in veggies:\n",
    "    print(i)\n",
    "\n",
    "str = \"omkar\"\n",
    "\n",
    "for i in str:\n",
    "    print(i)"
   ]
  },
  {
   "cell_type": "code",
   "execution_count": 311,
   "id": "f80ff862-4d3f-4694-b5c1-e227dcafe60c",
   "metadata": {},
   "outputs": [
    {
     "name": "stdout",
     "output_type": "stream",
     "text": [
      "o\n",
      "m\n",
      "k\n",
      "a\n",
      "r\n",
      "end\n"
     ]
    }
   ],
   "source": [
    "str = \"omkar\"\n",
    "\n",
    "for i in str:\n",
    "    print(i)\n",
    "else:\n",
    "    print(\"end\")"
   ]
  },
  {
   "cell_type": "code",
   "execution_count": 12,
   "id": "a8407edf-5f6a-48e2-a076-14b5bf3b3ca0",
   "metadata": {},
   "outputs": [
    {
     "name": "stdout",
     "output_type": "stream",
     "text": [
      "Number found at index: 6\n"
     ]
    }
   ],
   "source": [
    "#range function returns a sequence of numbers,string,from 0 by default and increments by 1(default) and stop before specified number\n",
    "\n",
    "a= (7,5,4,8,5,2,3)\n",
    "x= 3\n",
    "for i in range(len(a)):\n",
    "    if a[i]==x:\n",
    "        print(\"Number found at index:\",i)\n"
   ]
  },
  {
   "cell_type": "code",
   "execution_count": 20,
   "id": "5c757e9c-bd7a-4b8b-a7f8-65aade93dc43",
   "metadata": {},
   "outputs": [
    {
     "name": "stdout",
     "output_type": "stream",
     "text": [
      "1\n",
      "3\n",
      "5\n"
     ]
    }
   ],
   "source": [
    "# for i in range(5):\n",
    "#     print (i)\n",
    "\n",
    "# for i in range(1,6):\n",
    "#     print(i)\n",
    "\n",
    "for i in range(1,6,2):\n",
    "    print(i)"
   ]
  },
  {
   "cell_type": "code",
   "execution_count": 37,
   "id": "c0234ced-5f93-4d1a-9b15-fa7cb0d4a8e0",
   "metadata": {},
   "outputs": [
    {
     "name": "stdout",
     "output_type": "stream",
     "text": [
      "enter n: 6\n"
     ]
    },
    {
     "name": "stdout",
     "output_type": "stream",
     "text": [
      "720\n"
     ]
    }
   ],
   "source": [
    "n=int(input(\"enter n:\"))\n",
    "m=n\n",
    "for i in range(1,n):\n",
    "    m = m*i\n",
    "print(m)\n",
    "\n",
    "        \n",
    "    "
   ]
  },
  {
   "cell_type": "code",
   "execution_count": 26,
   "id": "868550ce-53f8-4993-b378-0a3b26f60bb8",
   "metadata": {},
   "outputs": [],
   "source": [
    "#Functions ---\n",
    "\n",
    "def sum(a,b):\n",
    "    print(\"sum :\",a+b)"
   ]
  },
  {
   "cell_type": "code",
   "execution_count": 27,
   "id": "1523b9dd-c58b-45ae-929e-bf2aeff0eba7",
   "metadata": {},
   "outputs": [
    {
     "name": "stdout",
     "output_type": "stream",
     "text": [
      "sum : 7\n"
     ]
    }
   ],
   "source": [
    "sum(4,3)"
   ]
  },
  {
   "cell_type": "code",
   "execution_count": 28,
   "id": "dcbcebf5-d2f9-421f-b8eb-eb432569447d",
   "metadata": {},
   "outputs": [
    {
     "name": "stdout",
     "output_type": "stream",
     "text": [
      "16\n"
     ]
    }
   ],
   "source": [
    "def mul(a,b):\n",
    "    return a*b\n",
    "print(mul(4,4))\n"
   ]
  },
  {
   "cell_type": "code",
   "execution_count": 32,
   "id": "5fde3589-56a6-4f4c-a856-9498ca9a0ce9",
   "metadata": {},
   "outputs": [
    {
     "name": "stdout",
     "output_type": "stream",
     "text": [
      "1st no: 6\n",
      "2nd no:  5\n"
     ]
    },
    {
     "name": "stdout",
     "output_type": "stream",
     "text": [
      "11\n"
     ]
    }
   ],
   "source": [
    "def mul(a,b):\n",
    "    return a+b\n",
    "a= int(input(\"1st no:\"))\n",
    "b= int(input(\"2nd no: \"))\n",
    "print(mul(a,b))\n",
    "      "
   ]
  },
  {
   "cell_type": "code",
   "execution_count": 36,
   "id": "4f5e4638-5482-4bef-bf83-a33db566518f",
   "metadata": {},
   "outputs": [
    {
     "name": "stdout",
     "output_type": "stream",
     "text": [
      "Enter inr: 1\n"
     ]
    },
    {
     "name": "stdout",
     "output_type": "stream",
     "text": [
      "85\n"
     ]
    }
   ],
   "source": [
    "inr = int(input(\"Enter inr:\"))\n",
    "\n",
    "def convert(inr):\n",
    "    inr = inr*85\n",
    "    return inr\n",
    "print(convert(inr))"
   ]
  },
  {
   "cell_type": "code",
   "execution_count": 46,
   "id": "9c51dc75-262f-4a27-9d03-f22d0af16388",
   "metadata": {},
   "outputs": [
    {
     "name": "stdout",
     "output_type": "stream",
     "text": [
      "Enter n: 6\n"
     ]
    },
    {
     "name": "stdout",
     "output_type": "stream",
     "text": [
      "720\n"
     ]
    }
   ],
   "source": [
    "n = int(input(\"Enter n:\"))\n",
    "def fact(n):\n",
    "    fact = 1\n",
    "    for i in range(1,n+1):\n",
    "        fact *= i\n",
    "    print(fact)\n",
    "fact(n)"
   ]
  },
  {
   "cell_type": "code",
   "execution_count": 42,
   "id": "725429e5-b2c1-47d2-a381-8fc457ece1f8",
   "metadata": {},
   "outputs": [
    {
     "name": "stdout",
     "output_type": "stream",
     "text": [
      "1 3 2 5 "
     ]
    }
   ],
   "source": [
    "a= [1,3,2,5]\n",
    "def cal(a):\n",
    "    for i in a:\n",
    "        print(i,end=\" \")\n",
    "\n",
    "cal(a)\n",
    "        \n",
    "\n"
   ]
  },
  {
   "cell_type": "code",
   "execution_count": 41,
   "id": "c3a900ae-511b-4cd7-8d19-6fc7fa2f82ec",
   "metadata": {},
   "outputs": [
    {
     "name": "stdout",
     "output_type": "stream",
     "text": [
      "4\n"
     ]
    }
   ],
   "source": [
    "a= [1,3,2,5]\n",
    "def cal(a):\n",
    "    print(len(a))\n",
    "\n",
    "cal(a)\n"
   ]
  },
  {
   "cell_type": "code",
   "execution_count": 52,
   "id": "2801018b-f415-45ea-b7a9-65cb2e1548dd",
   "metadata": {},
   "outputs": [
    {
     "name": "stdout",
     "output_type": "stream",
     "text": [
      "even\n"
     ]
    }
   ],
   "source": [
    "def odd(n):\n",
    "    if n%2==0:\n",
    "        print(\"even\")\n",
    "    else:\n",
    "        print(\"odd\")\n",
    "\n",
    "odd(10)"
   ]
  },
  {
   "cell_type": "code",
   "execution_count": 58,
   "id": "e83ecba7-0f87-4939-8748-8c805cc99ad3",
   "metadata": {},
   "outputs": [
    {
     "name": "stdout",
     "output_type": "stream",
     "text": [
      "4\n",
      "3\n",
      "2\n",
      "1\n",
      "end\n",
      "end\n",
      "end\n",
      "end\n"
     ]
    }
   ],
   "source": [
    "# Recursion\n",
    "\n",
    "def show(n):\n",
    "    if(n==0):\n",
    "        return   #(BASE CASE) important to mention condition to stop infinaite loop\n",
    "    print(n)\n",
    "    show(n-1)\n",
    "    print(\"end\")\n",
    "\n",
    "show(4)\n"
   ]
  },
  {
   "cell_type": "code",
   "execution_count": 59,
   "id": "eac0c6d5-f6f8-4ce7-9395-7c02467919f3",
   "metadata": {},
   "outputs": [
    {
     "data": {
      "text/plain": [
       "24"
      ]
     },
     "execution_count": 59,
     "metadata": {},
     "output_type": "execute_result"
    }
   ],
   "source": [
    "def fact(n):\n",
    "    if (n==0 or n==1):\n",
    "        return 1      #(BASE CASE) important to mention condition to stop infinaite loop\n",
    "    return n* fact(n-1)\n",
    "fact(4)"
   ]
  },
  {
   "cell_type": "code",
   "execution_count": 1,
   "id": "686499d9-f57e-4a09-9c9d-ef8cb08ab5a9",
   "metadata": {},
   "outputs": [
    {
     "name": "stdout",
     "output_type": "stream",
     "text": [
      "15\n"
     ]
    }
   ],
   "source": [
    "\n",
    "def sof(a):\n",
    "    if (a==0):\n",
    "        return 0    #(BASE CASE) important to mention condition to stop infinaite loop\n",
    "    return sof(a-1) + a\n",
    "\n",
    "print(sof(5))\n",
    "\n"
   ]
  },
  {
   "cell_type": "code",
   "execution_count": 72,
   "id": "b7e8827d-4f0b-4e2e-83db-f694c100cfc4",
   "metadata": {},
   "outputs": [
    {
     "name": "stdout",
     "output_type": "stream",
     "text": [
      "1\n",
      "2\n",
      "3\n",
      "4\n",
      "56\n",
      "7\n"
     ]
    }
   ],
   "source": [
    "# a=[1,2,3,4,56,7]\n",
    "\n",
    "# def list(a):\n",
    "#     for i in range(len(a)):\n",
    "#         if a[i] < 0:\n",
    "#             return \n",
    "#         print(a[i])\n",
    "# list(a)\n",
    "\n",
    "# use recurrsive function\n",
    "\n",
    "a=[1,2,3,4,56,7]\n",
    "i=0\n",
    "def list(a):\n",
    "    for i in range(len(a)):\n",
    "        print(a[i])   \n",
    "list(a)\n",
    "        \n"
   ]
  },
  {
   "cell_type": "code",
   "execution_count": 77,
   "id": "1cf531c7-90b2-4cbe-9217-a87a4ac56024",
   "metadata": {},
   "outputs": [
    {
     "name": "stdout",
     "output_type": "stream",
     "text": [
      "1\n",
      "2\n",
      "3\n",
      "4\n",
      "56\n",
      "7\n"
     ]
    }
   ],
   "source": [
    "a=[1,2,3,4,56,7]\n",
    "\n",
    "def fun(a,i=0):\n",
    "    if i==len(a):\n",
    "        return  #(BASE CASE) important to mention condition to stop infinaite loop\n",
    "    print(a[i])\n",
    "    fun(a,i+1)\n",
    "\n",
    "fun(a)\n",
    "\n",
    "\n"
   ]
  },
  {
   "cell_type": "code",
   "execution_count": 91,
   "id": "335fb134-7d2f-4c49-a948-8ea61796a641",
   "metadata": {},
   "outputs": [
    {
     "name": "stdout",
     "output_type": "stream",
     "text": [
      "this is first\n",
      "python example\n",
      "ok\n"
     ]
    }
   ],
   "source": [
    "#File I/O \n",
    "\n",
    "f = open(\"sample.txt\",\"r\")\n",
    "\n",
    "# f.read()\n",
    "\n",
    "dt = f.read()\n",
    "print(dt)\n",
    "\n",
    "f.close()"
   ]
  },
  {
   "cell_type": "code",
   "execution_count": null,
   "id": "cd408ff5-5704-47fb-bdd4-121f2f992121",
   "metadata": {},
   "outputs": [],
   "source": [
    "\"\"\"\n",
    "'r' open for reading(default)\n",
    "'w' open for writing, truncating the file first\n",
    "'x' create a new file and open it for writing\n",
    "'a' open for writing , appending to the end of the file if it exists\n",
    "'b' binary mode\n",
    "'t' text mode(default)\n",
    "'+' open a disk file for updating (reading and writing)\n",
    "\n",
    "data = f.read()  # read entire file\n",
    "data = f.reading() # reads one line at a time\n",
    "\n",
    "\"\"\""
   ]
  },
  {
   "cell_type": "code",
   "execution_count": 92,
   "id": "15e0b75f-5f03-4252-a118-23ecc639f2ac",
   "metadata": {},
   "outputs": [
    {
     "name": "stdout",
     "output_type": "stream",
     "text": [
      "this \n"
     ]
    }
   ],
   "source": [
    "f = open(\"sample.txt\",\"r\")\n",
    "dt = f.read(5)\n",
    "print(dt)"
   ]
  },
  {
   "cell_type": "code",
   "execution_count": 95,
   "id": "b2a82021-97ff-48c9-ba36-972ee84fe758",
   "metadata": {},
   "outputs": [
    {
     "name": "stdout",
     "output_type": "stream",
     "text": [
      "this is first\n",
      "\n"
     ]
    }
   ],
   "source": [
    "f = open(\"sample.txt\",\"r\")\n",
    "line1 = f.readline()\n",
    "print(line1)\n",
    "\n",
    "# there is hidden \\n in the text file that python read after end of each line thats why we have sapce after first line"
   ]
  },
  {
   "cell_type": "code",
   "execution_count": 96,
   "id": "6bfce18f-92d1-4ac3-b101-9ff4a69cc807",
   "metadata": {},
   "outputs": [
    {
     "name": "stdout",
     "output_type": "stream",
     "text": [
      "python example\n",
      "\n"
     ]
    }
   ],
   "source": [
    "line1 = f.readline()  # here after reading line1 in above code pointer is at end of the line i.e on second line thats why wehn we readline it gives second line\n",
    "print(line1)"
   ]
  },
  {
   "cell_type": "code",
   "execution_count": 118,
   "id": "fc777bb1-8339-483b-bc94-acd033aa1301",
   "metadata": {},
   "outputs": [
    {
     "name": "stdout",
     "output_type": "stream",
     "text": [
      "I want to performe write operation on it\n",
      "\n"
     ]
    }
   ],
   "source": [
    "f = open(\"sample.txt\",\"r\")\n",
    "dt=f.read()\n",
    "print(dt)\n",
    "\n",
    "line1 = f.readline()\n",
    "print(line1)\n",
    "\n",
    "# here once file is read once i.e print(dt) then it does not read line1 or line2 becasue once file is read the pointer is at last so it does not re-read the lines"
   ]
  },
  {
   "cell_type": "code",
   "execution_count": 117,
   "id": "3d8fdee5-26d6-4a19-ada0-7d2025006052",
   "metadata": {},
   "outputs": [],
   "source": [
    "#writing to a file\n",
    "\n",
    "# write mode overwrites data # append datat add to last \n",
    "\n",
    "f =open(\"sample.txt\",\"w\")\n",
    "f.write(\"I want to performe write operation on it\")\n",
    "f.close()\n",
    "\n",
    "# if file does not exist then it creates new automatically"
   ]
  },
  {
   "cell_type": "code",
   "execution_count": 119,
   "id": "d7a4e353-fa51-489c-ae5c-dafabc31eea9",
   "metadata": {},
   "outputs": [
    {
     "name": "stdout",
     "output_type": "stream",
     "text": [
      "I want to performe write operation on it\n",
      "\n"
     ]
    }
   ],
   "source": [
    "f = open(\"sample.txt\",\"r\")\n",
    "dt=f.read()\n",
    "print(dt)\n",
    "\n",
    "line1 = f.readline()\n",
    "print(line1)"
   ]
  },
  {
   "cell_type": "code",
   "execution_count": 120,
   "id": "97aac55c-f2bd-4ac3-bce0-5680818ae816",
   "metadata": {},
   "outputs": [],
   "source": [
    "f =open(\"sample.txt\",\"a\")\n",
    "f.write(\"and append data into it\")\n",
    "f.close()\n",
    "# if file does not exist then it creates new automatically"
   ]
  },
  {
   "cell_type": "code",
   "execution_count": 121,
   "id": "d43d4717-11a6-487b-8178-0dda7568ed51",
   "metadata": {},
   "outputs": [
    {
     "name": "stdout",
     "output_type": "stream",
     "text": [
      "I want to performe write operation on itand append data into it\n",
      "\n"
     ]
    }
   ],
   "source": [
    "f = open(\"sample.txt\",\"r\")\n",
    "dt=f.read()\n",
    "print(dt)\n",
    "\n",
    "line1 = f.readline()\n",
    "print(line1)"
   ]
  },
  {
   "cell_type": "code",
   "execution_count": 127,
   "id": "e521c96e-0ef1-4504-b76c-4bce3746cb94",
   "metadata": {},
   "outputs": [],
   "source": [
    "f =open(\"sample2demo.txt\",\"w\")\n",
    "f.write(\"I want to performe write operation on it\")\n",
    "f.close()\n",
    "\n",
    "# if file does not exist then it creates new automatically"
   ]
  },
  {
   "cell_type": "code",
   "execution_count": 124,
   "id": "02ca15db-4b29-48b9-b3ae-6008ffec203d",
   "metadata": {},
   "outputs": [
    {
     "name": "stdout",
     "output_type": "stream",
     "text": [
      "ant to performe write operation on it\n"
     ]
    }
   ],
   "source": [
    "#use stackoverflow to learn more about r+, w+ etc\n",
    "\n",
    "f = open(\"sample2.txt\",\"r+\") #the pointer is at start of the string so it wil replace first 3 character'I w' and now pointer is at ant so it will read from there\n",
    "f.write(\"abc\")\n",
    "print(f.read())\n",
    "f.close()"
   ]
  },
  {
   "cell_type": "code",
   "execution_count": 125,
   "id": "2d8c350d-c77f-4559-bf15-392992221b9f",
   "metadata": {},
   "outputs": [
    {
     "name": "stdout",
     "output_type": "stream",
     "text": [
      "\n"
     ]
    }
   ],
   "source": [
    "f = open(\"sample2.txt\",\"w+\") #it will truncate the file i.e delte the content of the file and re write if we want\n",
    "f.read()\n",
    "f.write(\"W+ tutorial\")\n",
    "print(f.read())\n",
    "f.close()"
   ]
  },
  {
   "cell_type": "code",
   "execution_count": 126,
   "id": "16a3832b-850b-48ce-915b-b93b7aa7dbed",
   "metadata": {},
   "outputs": [
    {
     "name": "stdout",
     "output_type": "stream",
     "text": [
      "\n"
     ]
    }
   ],
   "source": [
    "f = open(\"sample2.txt\",\"a+\") #it will not truncate but add to the content\n",
    "f.read()\n",
    "f.write(\"\\na+ tutorial\")\n",
    "print(f.read())\n",
    "f.close()"
   ]
  },
  {
   "cell_type": "code",
   "execution_count": 129,
   "id": "b50d98f0-e844-4177-abb2-d59b5cb9f7dd",
   "metadata": {},
   "outputs": [
    {
     "name": "stdout",
     "output_type": "stream",
     "text": [
      "I want to performe write operation on it\n"
     ]
    }
   ],
   "source": [
    "# WITH SYNTAX\n",
    "\n",
    "with open(\"demo.txt\",\"r\") as f:\n",
    "    data = f.read()\n",
    "    print(data)"
   ]
  },
  {
   "cell_type": "code",
   "execution_count": 132,
   "id": "174a2fdb-f7c8-4ac1-baf6-6e6155a416f3",
   "metadata": {},
   "outputs": [],
   "source": [
    "with open(\"demo.txt\",\"w\") as f:\n",
    "    f.write(\"New with function\")\n"
   ]
  },
  {
   "cell_type": "code",
   "execution_count": 133,
   "id": "9481a455-b037-4bc0-9f8c-4ba2e45d5bac",
   "metadata": {},
   "outputs": [],
   "source": [
    "#deleting a file -- we use modele OS\n",
    "\n",
    "import os\n",
    "os.remove(\"demo.txt\")"
   ]
  },
  {
   "cell_type": "code",
   "execution_count": 140,
   "id": "ce8b2059-61ba-4b26-9ab9-428026e39ece",
   "metadata": {},
   "outputs": [
    {
     "data": {
      "text/plain": [
       "48"
      ]
     },
     "execution_count": 140,
     "metadata": {},
     "output_type": "execute_result"
    }
   ],
   "source": [
    "f = open(\"newfile.txt\",\"w\")\n",
    "f.write(\"hi all\\nwe are learning java\\nusing videos of java\")\n"
   ]
  },
  {
   "cell_type": "code",
   "execution_count": 141,
   "id": "0244777c-973a-4210-b3d9-4d5287f7f213",
   "metadata": {},
   "outputs": [
    {
     "name": "stdout",
     "output_type": "stream",
     "text": [
      "hi all\n",
      "we are learning java\n",
      "using videos of java\n"
     ]
    }
   ],
   "source": [
    "with open(\"newfile.txt\",\"r+\") as f:\n",
    "    data = f.read()\n",
    "    print(data)\n",
    "\n",
    "\n"
   ]
  },
  {
   "cell_type": "code",
   "execution_count": 142,
   "id": "9fb59dad-312d-44ff-ba31-0653e7282c65",
   "metadata": {},
   "outputs": [
    {
     "name": "stdout",
     "output_type": "stream",
     "text": [
      "hi all\n",
      "we are learning python\n",
      "using videos of python\n"
     ]
    }
   ],
   "source": [
    "new_data = data.replace(\"java\",\"python\")\n",
    "print(new_data)\n"
   ]
  },
  {
   "cell_type": "code",
   "execution_count": 143,
   "id": "daa12325-582d-4ba1-ba48-f85b17cb4b88",
   "metadata": {},
   "outputs": [
    {
     "name": "stdout",
     "output_type": "stream",
     "text": [
      "52\n"
     ]
    }
   ],
   "source": [
    "with open(\"newfile.txt\",\"w\") as f:\n",
    "    data = f.write(new_data)\n",
    "    print(data)"
   ]
  },
  {
   "cell_type": "code",
   "execution_count": null,
   "id": "c780d420-5fa7-4f60-bc41-ee4da2385f1d",
   "metadata": {},
   "outputs": [],
   "source": [
    "\n",
    "#goit from stackoverflow\n",
    "with open(r'myfile.txt', 'r') as fp:\n",
    "    # read all lines using readline()\n",
    "    lines = fp.readlines()\n",
    "    for row in lines:\n",
    "        word = 'Line 3'                               # check if string present on a current line\n",
    "        if row.find(word) != -1:\n",
    "            print('string exists in file')\n",
    "            print('line Number:', lines.index(row))                                              #print(row.find(word))\n",
    "                                                      # find() method returns -1 if the value is not found,\n",
    "                                                      # if found it returns index of the first occurrence of the substring\n",
    "        \n",
    "        \n",
    "        "
   ]
  },
  {
   "cell_type": "code",
   "execution_count": 146,
   "id": "ce38ef33-2a28-4e2b-bb96-fc233eef838a",
   "metadata": {},
   "outputs": [
    {
     "name": "stdout",
     "output_type": "stream",
     "text": [
      "found learning\n"
     ]
    }
   ],
   "source": [
    "\n",
    "def find_word():\n",
    "    word = \"learning\"\n",
    "    with open(\"newfile.txt\",\"r\") as f:\n",
    "        data = f.read()\n",
    "        if data.find != -1:  #if (word in data):    # find() method returns -1 if the value is not found\n",
    "            print(\"found\",word)\n",
    "        else:\n",
    "            print(\"not found\")\n",
    "        \n",
    "find_word()"
   ]
  },
  {
   "cell_type": "code",
   "execution_count": 154,
   "id": "ac46d1ba-0e55-4122-b686-b540c2124061",
   "metadata": {},
   "outputs": [
    {
     "data": {
      "text/plain": [
       "-1"
      ]
     },
     "execution_count": 154,
     "metadata": {},
     "output_type": "execute_result"
    }
   ],
   "source": [
    "def check_word():\n",
    "    word = \"ok\"\n",
    "    line_no = 1\n",
    "    data = True\n",
    "    with open(\"newfile.txt\",\"r\") as f:\n",
    "        while data:\n",
    "             data = f.readline()\n",
    "             if (word in data):\n",
    "                print(line_no)\n",
    "                return\n",
    "             line_no +=1\n",
    "    return -1\n",
    "\n",
    "check_word()"
   ]
  },
  {
   "cell_type": "code",
   "execution_count": 164,
   "id": "dcb53db8-c0f3-4528-9abf-3a1bbe7980e7",
   "metadata": {},
   "outputs": [
    {
     "name": "stdout",
     "output_type": "stream",
     "text": [
      "word: hi\n"
     ]
    },
    {
     "name": "stdout",
     "output_type": "stream",
     "text": [
      "1\n"
     ]
    }
   ],
   "source": [
    "n = input(\"word:\")\n",
    "def check_line(n):\n",
    "    line_no = 1\n",
    "    data = True     # to define data true it will run till we have some data in the text file\n",
    "    with open(\"newfile.txt\",\"r\") as f:\n",
    "        while data:\n",
    "            line = f.readline()\n",
    "            if(n in line):\n",
    "                print(line_no)\n",
    "                return\n",
    "            else:\n",
    "                line_no += 1\n",
    "        return -1\n",
    "\n",
    "check_line(n)\n",
    "\n"
   ]
  },
  {
   "cell_type": "code",
   "execution_count": 170,
   "id": "90996c7d-9c91-4e83-8ff8-a305b604dbdd",
   "metadata": {},
   "outputs": [
    {
     "name": "stdout",
     "output_type": "stream",
     "text": [
      "20\n"
     ]
    }
   ],
   "source": [
    "with open(\"demo2.txt\",\"w\") as f:\n",
    "    data = f.write(\"1,2,3,4,5,6,7,8,9,10\")\n",
    "    print(data)\n"
   ]
  },
  {
   "cell_type": "code",
   "execution_count": 191,
   "id": "2e35ec7c-5aa2-4af4-8ea8-d280d88582c6",
   "metadata": {},
   "outputs": [
    {
     "name": "stdout",
     "output_type": "stream",
     "text": [
      "5\n"
     ]
    }
   ],
   "source": [
    "count =0\n",
    "with open(\"demo2.txt\",\"r\") as f:\n",
    "    data = f.read()\n",
    "    num = data.split(\",\")  # split the string with deliniter comma\n",
    "    for val in num:\n",
    "        if(int(val) % 2 == 0):  # convert val into int\n",
    "            count += 1\n",
    "\n",
    "print(count)\n",
    "            \n"
   ]
  },
  {
   "cell_type": "code",
   "execution_count": 192,
   "id": "8619a9a4-8219-4d64-961d-c3f4aaf67645",
   "metadata": {},
   "outputs": [
    {
     "name": "stdout",
     "output_type": "stream",
     "text": [
      "blue\n",
      "tata\n"
     ]
    }
   ],
   "source": [
    "# OOP (Object oriented programming)\n",
    "\n",
    "class car:\n",
    "    color = \"blue\"\n",
    "    brand = \"tata\"\n",
    "\n",
    "car1 = car()\n",
    "print(car.color)\n",
    "print(car.brand)\n",
    "    "
   ]
  },
  {
   "cell_type": "code",
   "execution_count": 194,
   "id": "6f3f7f6b-c689-409c-b9a9-697c0341f72b",
   "metadata": {},
   "outputs": [
    {
     "name": "stdout",
     "output_type": "stream",
     "text": [
      "adding new student\n"
     ]
    }
   ],
   "source": [
    "# constructor  _init_() ----\n",
    "class student:\n",
    "    def __init__(self):\n",
    "        print(\"adding new student\")\n",
    "\n",
    "s1 = student()\n",
    "\n"
   ]
  },
  {
   "cell_type": "code",
   "execution_count": 199,
   "id": "adf7da4a-aafd-4e68-8e45-66320cbba545",
   "metadata": {},
   "outputs": [
    {
     "name": "stdout",
     "output_type": "stream",
     "text": [
      "Welcome om\n",
      "Welcome kar\n"
     ]
    }
   ],
   "source": [
    "class student:\n",
    "    def __init__(self,name1,marks1):\n",
    "        self.name = name1                        #data stored inside the class is called attributes\n",
    "        self.marks = marks1\n",
    "        print(\"Welcome\",self.name)\n",
    "\n",
    "stud1 = student(\"om\",\"99\")\n",
    "stud2 = student(\"kar\",\"98\")\n",
    "\n",
    "        "
   ]
  },
  {
   "cell_type": "code",
   "execution_count": 201,
   "id": "e395f4c8-c5a0-4c33-8c62-778c0f77bf08",
   "metadata": {},
   "outputs": [
    {
     "name": "stdout",
     "output_type": "stream",
     "text": [
      "om 99\n"
     ]
    }
   ],
   "source": [
    "class student:\n",
    "    def __init__(self,name1,marks1):\n",
    "        self.name = name1                        #data stored inside the class is called attributes\n",
    "        self.marks = marks1\n",
    "\n",
    "stud1 = student(\"om\",\"99\")\n",
    "print(stud1.name,stud1.marks)\n",
    "\n",
    "stud2 = student(\"kar\",\"98\")\n"
   ]
  },
  {
   "cell_type": "code",
   "execution_count": null,
   "id": "cc787937-401f-4cae-bbd6-2e5c4548039a",
   "metadata": {},
   "outputs": [],
   "source": [
    "class student:\n",
    "\n",
    "    def _init__(self):                 # defalut construcutor\n",
    "        pass\n",
    "    \n",
    "    def __init__(self,name1,marks1):    #parameterized constructors----\n",
    "        self.name = name1                        \n",
    "        self.marks = marks1\n",
    "\n",
    "stud1 = student(\"om\",\"99\")\n",
    "print(stud1.name,stud1.marks)"
   ]
  },
  {
   "cell_type": "code",
   "execution_count": 205,
   "id": "fb3e4669-47e8-41a5-a483-c322b7f44e92",
   "metadata": {},
   "outputs": [
    {
     "name": "stdout",
     "output_type": "stream",
     "text": [
      "om 99 ABC\n",
      "kar 98 ABC\n"
     ]
    }
   ],
   "source": [
    "#class and instance attributes ----Class is common attributes and instance attributes is different for every class\n",
    "\n",
    "class student:\n",
    "    college_name=\"ABC\" #class attribute ---common for all objects\n",
    "    def __init__(self,name1,marks1):\n",
    "        self.name = name1                   #instance attribute\n",
    "        self.marks = marks1\n",
    "\n",
    "stud1 = student(\"om\",\"99\")\n",
    "print(stud1.name,stud1.marks,stud1.college_name)\n",
    "\n",
    "stud2 = student(\"kar\",\"98\")\n",
    "print(stud2.name,stud2.marks,stud2.college_name)\n",
    "\n",
    "\n"
   ]
  },
  {
   "cell_type": "code",
   "execution_count": 209,
   "id": "c20bccb1-1d09-4fae-a97e-f63443bc43f4",
   "metadata": {},
   "outputs": [
    {
     "name": "stdout",
     "output_type": "stream",
     "text": [
      "Welcome om\n",
      "55\n"
     ]
    }
   ],
   "source": [
    "#Class has attribute and methods\n",
    "\n",
    "class student:\n",
    "    college_name=\"ABC\"                     #class attribute ---common for all objects\n",
    "    def __init__(self,name1,marks1):       #constructor\n",
    "        self.name = name1                   #instance attribute\n",
    "        self.marks = marks1\n",
    "    def welcome(self):                       #method\n",
    "        print(\"Welcome\",self.name)\n",
    "    def get_marks(self):                      #method\n",
    "        print(self.marks)\n",
    "        \n",
    "\n",
    "s1 = student(\"om\",55)   #defining object\n",
    "\n",
    "#calling\n",
    "s1.welcome()\n",
    "s1.get_marks()\n"
   ]
  },
  {
   "cell_type": "code",
   "execution_count": 213,
   "id": "2a0afd36-a781-45f3-a2ca-864c79f35596",
   "metadata": {},
   "outputs": [
    {
     "name": "stdout",
     "output_type": "stream",
     "text": [
      "Hi Omkar Your avg marks: 75.66666666666667\n"
     ]
    }
   ],
   "source": [
    "class stud():\n",
    "    def __init__(self,name,marks):\n",
    "        self.name = name\n",
    "        self.marks = marks\n",
    "    def get_avg(self):\n",
    "        sum = 0\n",
    "        for val in self.marks:\n",
    "            sum += val\n",
    "        print(\"Hi\",self.name,\"Your avg marks:\",sum/3)\n",
    "\n",
    "s1 = stud(\"Omkar\",[84,78,65])  # defining object \n",
    "\n",
    "s1.get_avg()  #calling\n",
    "            "
   ]
  },
  {
   "cell_type": "code",
   "execution_count": 215,
   "id": "c131dc04-7c8b-4474-b18b-0ec659d5ea6f",
   "metadata": {},
   "outputs": [
    {
     "name": "stdout",
     "output_type": "stream",
     "text": [
      "Hi Rahul Your avg marks: 75.66666666666667\n"
     ]
    }
   ],
   "source": [
    "s1 = stud(\"Rahul\",[84,78,65])  \n",
    "s1.get_avg()  # we can change the name or any attributes\n",
    "            "
   ]
  },
  {
   "cell_type": "code",
   "execution_count": null,
   "id": "ba9bc170-1651-42e8-87ae-6eea00e8ecdf",
   "metadata": {},
   "outputs": [],
   "source": [
    "#Static methods: Method that dont use the self parameter(work at class level)\n",
    "#decorator allow us to wrap another function in order to extend the behaviour of the wrapped function, without permanently modifying it\n",
    " eg: \n",
    "\n",
    "class student:\n",
    "    @staticmethod   #decorator----there are different type of decorator\n",
    "    def college():\n",
    "        print(\"college\")\n",
    "    \n",
    "    \n",
    "\n"
   ]
  },
  {
   "cell_type": "code",
   "execution_count": 216,
   "id": "4d9ba8fa-78d5-448b-ba1e-1984e50feed0",
   "metadata": {},
   "outputs": [
    {
     "ename": "TypeError",
     "evalue": "student.hello() takes 0 positional arguments but 1 was given",
     "output_type": "error",
     "traceback": [
      "\u001b[1;31m---------------------------------------------------------------------------\u001b[0m",
      "\u001b[1;31mTypeError\u001b[0m                                 Traceback (most recent call last)",
      "Cell \u001b[1;32mIn[216], line 10\u001b[0m\n\u001b[0;32m      7\u001b[0m         \u001b[38;5;28mprint\u001b[39m(\u001b[38;5;124m\"\u001b[39m\u001b[38;5;124mHello\u001b[39m\u001b[38;5;124m\"\u001b[39m)\n\u001b[0;32m      9\u001b[0m s1 \u001b[38;5;241m=\u001b[39mstudent(\u001b[38;5;124m\"\u001b[39m\u001b[38;5;124mom\u001b[39m\u001b[38;5;124m\"\u001b[39m,\u001b[38;5;124m\"\u001b[39m\u001b[38;5;124m55\u001b[39m\u001b[38;5;124m\"\u001b[39m)\n\u001b[1;32m---> 10\u001b[0m s1\u001b[38;5;241m.\u001b[39mhello()\n",
      "\u001b[1;31mTypeError\u001b[0m: student.hello() takes 0 positional arguments but 1 was given"
     ]
    }
   ],
   "source": [
    "class student:\n",
    "    college_name=\"ABC\"          #class attribute ---common for all objects\n",
    "    def __init__(self,name1,marks1):\n",
    "        self.name = name1                   #instance attribute\n",
    "        self.marks = marks1\n",
    "    def hello():\n",
    "        print(\"Hello\")\n",
    "\n",
    "s1 =student(\"om\",\"55\")\n",
    "s1.hello()\n"
   ]
  },
  {
   "cell_type": "code",
   "execution_count": 217,
   "id": "8d20f7d7-fffa-4fee-9eb9-1b79f201f53c",
   "metadata": {},
   "outputs": [
    {
     "name": "stdout",
     "output_type": "stream",
     "text": [
      "Hello\n"
     ]
    }
   ],
   "source": [
    "class student:\n",
    "    college_name=\"ABC\"          #class attribute ---common for all objects\n",
    "    def __init__(self,name1,marks1):\n",
    "        self.name = name1                   #instance attribute\n",
    "        self.marks = marks1\n",
    "    @staticmethod\n",
    "    def hello():\n",
    "        print(\"Hello\")\n",
    "\n",
    "s1 =student(\"om\",\"55\")\n",
    "s1.hello()"
   ]
  },
  {
   "cell_type": "code",
   "execution_count": null,
   "id": "78accb16-0771-491a-a037-c7c37e0cfef1",
   "metadata": {},
   "outputs": [],
   "source": [
    "# 4 pillar of OOPS -- Abstraction, Encapsulation, inheritance, polymorphism\n",
    "# abstraction --hiding the implementation details of a class and only showing the essential features to the user \n",
    "# encapsulation -- wrapping data and function into a single unit \n"
   ]
  },
  {
   "cell_type": "code",
   "execution_count": 14,
   "id": "1d491719-051a-4168-b2c1-f695d034a437",
   "metadata": {},
   "outputs": [],
   "source": [
    "#create account class with 2 attributes - balance abd account no., creat method for debit and credit and printing balance\n",
    "\n",
    "class account:\n",
    "    def __init__(self,balance,account_no):\n",
    "        self.balance = balance\n",
    "        self.account_no =account_no\n",
    "    def debit(self,amount):\n",
    "        self.balance -= amount \n",
    "        print(\"Rs:\",amount,\"debited\")\n",
    "        print(\"balance:\",self.balance)\n",
    "    def credit(self,amount):\n",
    "        self.balance += amount\n",
    "        print(\"Rs:\",amount,\"credited\")\n",
    "        print(\"balance:\",self.balance)\n",
    "\n",
    "acc = account(500,123)\n",
    "\n",
    "    \n",
    "\n",
    "\n"
   ]
  },
  {
   "cell_type": "code",
   "execution_count": 15,
   "id": "ba276ba8-5067-4198-bc6d-604e0b16b5ae",
   "metadata": {},
   "outputs": [
    {
     "name": "stdout",
     "output_type": "stream",
     "text": [
      "Rs: 50 debited\n",
      "balance: 450\n"
     ]
    }
   ],
   "source": [
    "acc.debit(50)"
   ]
  },
  {
   "cell_type": "code",
   "execution_count": 16,
   "id": "636fa4d7",
   "metadata": {},
   "outputs": [
    {
     "name": "stdout",
     "output_type": "stream",
     "text": [
      "Rs: 65 credited\n",
      "balance: 515\n"
     ]
    }
   ],
   "source": [
    "acc.credit(65)"
   ]
  },
  {
   "cell_type": "code",
   "execution_count": 18,
   "id": "2b06a629",
   "metadata": {},
   "outputs": [
    {
     "name": "stdout",
     "output_type": "stream",
     "text": [
      "456\n"
     ]
    }
   ],
   "source": [
    "#del keyword\n",
    "# private attribiute and method ----are meant to be used within the class and are not accessible from outside the class\n",
    "\n",
    "class account:\n",
    "    def __init__(self,acc_no,acc_pass):\n",
    "        self.acc_no=acc_no\n",
    "        self.acc_pass=acc_pass\n",
    "    \n",
    "acc1 = account(\"123\",\"456\")\n",
    "print(acc1.acc_pass)\n",
    "\n"
   ]
  },
  {
   "cell_type": "code",
   "execution_count": 19,
   "id": "aa82d59a",
   "metadata": {},
   "outputs": [
    {
     "ename": "AttributeError",
     "evalue": "'account' object has no attribute 'acc_pass'",
     "output_type": "error",
     "traceback": [
      "\u001b[1;31m---------------------------------------------------------------------------\u001b[0m",
      "\u001b[1;31mAttributeError\u001b[0m                            Traceback (most recent call last)",
      "Cell \u001b[1;32mIn[19], line 7\u001b[0m\n\u001b[0;32m      4\u001b[0m         \u001b[38;5;28mself\u001b[39m\u001b[38;5;241m.\u001b[39m__acc_pass\u001b[38;5;241m=\u001b[39macc_pass    \u001b[38;5;66;03m# to make it private we add __ to the attribute\u001b[39;00m\n\u001b[0;32m      6\u001b[0m acc1 \u001b[38;5;241m=\u001b[39m account(\u001b[38;5;124m\"\u001b[39m\u001b[38;5;124m123\u001b[39m\u001b[38;5;124m\"\u001b[39m,\u001b[38;5;124m\"\u001b[39m\u001b[38;5;124m456\u001b[39m\u001b[38;5;124m\"\u001b[39m)\n\u001b[1;32m----> 7\u001b[0m \u001b[38;5;28mprint\u001b[39m(acc1\u001b[38;5;241m.\u001b[39macc_pass)\n",
      "\u001b[1;31mAttributeError\u001b[0m: 'account' object has no attribute 'acc_pass'"
     ]
    }
   ],
   "source": [
    "\n",
    "class account:\n",
    "    def __init__(self,acc_no,acc_pass):\n",
    "        self.acc_no=acc_no\n",
    "        self.__acc_pass=acc_pass    # to make it private we add __ to the attribute\n",
    "    \n",
    "acc1 = account(\"123\",\"456\")\n",
    "print(acc1.acc_pass)"
   ]
  },
  {
   "cell_type": "code",
   "execution_count": 23,
   "id": "372baa66",
   "metadata": {},
   "outputs": [
    {
     "name": "stdout",
     "output_type": "stream",
     "text": [
      "456\n",
      "None\n"
     ]
    }
   ],
   "source": [
    "# we can use the private attribute wihtin the class itself for other method \n",
    " \n",
    "\n",
    "class account:\n",
    "    def __init__(self,acc_no,acc_pass):\n",
    "        self.acc_no=acc_no\n",
    "        self.__acc_pass=acc_pass    # to make it private we add __ to the attribute\n",
    "    def reset_pass(self):\n",
    "        print(self.__acc_pass)\n",
    "\n",
    "acc1 = account(\"123\",\"456\")\n",
    "print(acc1.reset_pass())"
   ]
  },
  {
   "cell_type": "code",
   "execution_count": 25,
   "id": "6847c14b",
   "metadata": {},
   "outputs": [
    {
     "ename": "AttributeError",
     "evalue": "'person' object has no attribute '__name'",
     "output_type": "error",
     "traceback": [
      "\u001b[1;31m---------------------------------------------------------------------------\u001b[0m",
      "\u001b[1;31mAttributeError\u001b[0m                            Traceback (most recent call last)",
      "Cell \u001b[1;32mIn[25], line 5\u001b[0m\n\u001b[0;32m      2\u001b[0m     __name \u001b[38;5;241m=\u001b[39m \u001b[38;5;124m\"\u001b[39m\u001b[38;5;124manonymous\u001b[39m\u001b[38;5;124m\"\u001b[39m\n\u001b[0;32m      4\u001b[0m p\u001b[38;5;241m=\u001b[39mperson()\n\u001b[1;32m----> 5\u001b[0m \u001b[38;5;28mprint\u001b[39m(p\u001b[38;5;241m.\u001b[39m__name)\n",
      "\u001b[1;31mAttributeError\u001b[0m: 'person' object has no attribute '__name'"
     ]
    }
   ],
   "source": [
    "class person:\n",
    "    __name = \"anonymous\"  #private\n",
    "\n",
    "p=person()\n",
    "print(p.__name)"
   ]
  },
  {
   "cell_type": "code",
   "execution_count": 26,
   "id": "774d9cbd",
   "metadata": {},
   "outputs": [
    {
     "ename": "AttributeError",
     "evalue": "'person' object has no attribute '__hello'",
     "output_type": "error",
     "traceback": [
      "\u001b[1;31m---------------------------------------------------------------------------\u001b[0m",
      "\u001b[1;31mAttributeError\u001b[0m                            Traceback (most recent call last)",
      "Cell \u001b[1;32mIn[26], line 9\u001b[0m\n\u001b[0;32m      5\u001b[0m         \u001b[38;5;28mprint\u001b[39m(\u001b[38;5;124m\"\u001b[39m\u001b[38;5;124mhello\u001b[39m\u001b[38;5;124m\"\u001b[39m)\n\u001b[0;32m      8\u001b[0m p\u001b[38;5;241m=\u001b[39mperson()\n\u001b[1;32m----> 9\u001b[0m \u001b[38;5;28mprint\u001b[39m(p\u001b[38;5;241m.\u001b[39m__hello())\n",
      "\u001b[1;31mAttributeError\u001b[0m: 'person' object has no attribute '__hello'"
     ]
    }
   ],
   "source": [
    "class person:\n",
    "    __name = \"anonymous\"  #private\n",
    "\n",
    "    def __hello(self):   # private method\n",
    "        print(\"hello\")\n",
    "\n",
    "\n",
    "p=person()\n",
    "print(p.__hello())"
   ]
  },
  {
   "cell_type": "code",
   "execution_count": 31,
   "id": "6eb25d81",
   "metadata": {},
   "outputs": [
    {
     "name": "stdout",
     "output_type": "stream",
     "text": [
      "hello\n",
      "None\n"
     ]
    }
   ],
   "source": [
    "class person:\n",
    "    __name = \"anonymous\"  #private\n",
    "\n",
    "    def __hello(self):   # private method\n",
    "        print(\"hello\")\n",
    "\n",
    "    def welcome(self):\n",
    "        self.__hello()\n",
    "    \n",
    "\n",
    "p=person()\n",
    "print(p.welcome())"
   ]
  },
  {
   "cell_type": "code",
   "execution_count": 33,
   "id": "e1c8c0ef",
   "metadata": {},
   "outputs": [
    {
     "name": "stdout",
     "output_type": "stream",
     "text": [
      "fortuner\n",
      "start car\n",
      "None\n"
     ]
    }
   ],
   "source": [
    "#inheritance --- when one class (child/derived) derives properties and method of another class (parent/base)\n",
    "\n",
    "class car:\n",
    "    @staticmethod\n",
    "    def start():\n",
    "        print(\"start car\")\n",
    "    @staticmethod\n",
    "    def sto():\n",
    "        print(\"stop car\")\n",
    "\n",
    "class toyotacar(car):                      # Single inheritance of classs car\n",
    "    def __init__(self,name):\n",
    "        self.name =name\n",
    "\n",
    "car1 = toyotacar(\"fortuner\")\n",
    "print(car1.name)\n",
    "print(car1.start())"
   ]
  },
  {
   "cell_type": "code",
   "execution_count": 123,
   "id": "942b0f30",
   "metadata": {},
   "outputs": [
    {
     "name": "stdout",
     "output_type": "stream",
     "text": [
      "fortuner\n"
     ]
    }
   ],
   "source": [
    "# types of inheritance --- \n",
    "# 1. Single  2. Multi level 3. Multiple\n",
    "\n",
    "\n",
    "class car:\n",
    "    @staticmethod\n",
    "    def start():\n",
    "        print(\"start car\")\n",
    "    @staticmethod\n",
    "    def stop():\n",
    "        print(\"stop car\")\n",
    "\n",
    "class toyotacar(car):                    \n",
    "    def __init__(self,name):\n",
    "        self.name = name\n",
    "        print(self.name)\n",
    "\n",
    "\n",
    "\n",
    "class fortuner(toyotacar):                #Multi level inheritance\n",
    "    def __init__(self,type):\n",
    "        self.type = type\n",
    "        \n",
    "\n",
    "class next(toyotacar):                #Multi level inheritance\n",
    "    def __init__(self,type):\n",
    "        self.type = type\n",
    "\n",
    "\n",
    "car1 = toyotacar(\"fortuner\")\n",
    "\n",
    "car2 = fortuner(\"petrol\")\n",
    "\n",
    "\n",
    "# car2 = next(\"petrol\")\n",
    "\n",
    "# print(car2.stop())\n"
   ]
  },
  {
   "cell_type": "code",
   "execution_count": 55,
   "id": "6d79e231",
   "metadata": {},
   "outputs": [
    {
     "name": "stdout",
     "output_type": "stream",
     "text": [
      "class C\n",
      "class B\n",
      "class A\n"
     ]
    }
   ],
   "source": [
    "class A:\n",
    "    varA = \"class A\"\n",
    "\n",
    "class B:\n",
    "    varB = \"class B\"\n",
    "\n",
    "class C(A,B):\n",
    "    varC = \"class C\"\n",
    "\n",
    "c = C()\n",
    "\n",
    "print(c.varC)\n",
    "print(c.varB)\n",
    "print(c.varA)"
   ]
  },
  {
   "cell_type": "code",
   "execution_count": 62,
   "id": "5d85be52",
   "metadata": {},
   "outputs": [
    {
     "name": "stdout",
     "output_type": "stream",
     "text": [
      "Start\n",
      "diesel\n"
     ]
    }
   ],
   "source": [
    "# Super Method ---super() method is used to access METHODS of the parent class\n",
    "\n",
    "class car():\n",
    "    def __init__(self,type):\n",
    "        self.type = type\n",
    "\n",
    "    @staticmethod\n",
    "    def start():\n",
    "        print(\"Start\")\n",
    "\n",
    "    @staticmethod\n",
    "    def stop():\n",
    "        print(\"stop\")\n",
    "    \n",
    "class toyota(car):\n",
    "    def __init__(self,name,type):\n",
    "        \n",
    "        super().__init__(type)  # inheriting parent properties\n",
    "\n",
    "        self.name=name\n",
    "        \n",
    "        super().start()\n",
    "    \n",
    "\n",
    "car1 = toyota(\"fortuner\",\"diesel\")\n",
    "print(car1.type)\n",
    "\n",
    "\n",
    "\n",
    "    \n",
    "\n",
    "\n"
   ]
  },
  {
   "cell_type": "code",
   "execution_count": 68,
   "id": "042f82e5",
   "metadata": {},
   "outputs": [
    {
     "name": "stdout",
     "output_type": "stream",
     "text": [
      "fortuner\n",
      "anonymous\n"
     ]
    }
   ],
   "source": [
    "# CLASS Method -- A class method is bound to the class & recieves the class as an implicit first argument.\n",
    "# NOTE - static method can't access or modify class state & generally for utility\n",
    "\n",
    "class car:\n",
    "    name = \"anonymous\"\n",
    "    \n",
    "    def toyota(self,name):\n",
    "        self.name =name\n",
    "\n",
    "c1 = car()\n",
    "\n",
    "c1.toyota(\"fortuner\")\n",
    "\n",
    "print(c1.name)\n",
    "print(car.name)   # the parent attrobute name does not change therefore we have to ise class method\n",
    "\n",
    "\n"
   ]
  },
  {
   "cell_type": "code",
   "execution_count": 69,
   "id": "7474b163",
   "metadata": {},
   "outputs": [
    {
     "name": "stdout",
     "output_type": "stream",
     "text": [
      "fortuner\n",
      "fortuner\n"
     ]
    }
   ],
   "source": [
    "#Method 1 \n",
    "class car:\n",
    "    name = \"anonymous\"\n",
    "    \n",
    "    def toyota(self,name):\n",
    "        car.name =name\n",
    "\n",
    "c1 = car()\n",
    "\n",
    "c1.toyota(\"fortuner\")\n",
    "\n",
    "print(c1.name)\n",
    "print(car.name) \n"
   ]
  },
  {
   "cell_type": "code",
   "execution_count": 70,
   "id": "40f1f225",
   "metadata": {},
   "outputs": [
    {
     "name": "stdout",
     "output_type": "stream",
     "text": [
      "fortuner\n",
      "fortuner\n"
     ]
    }
   ],
   "source": [
    "# Method 2\n",
    "\n",
    "class car:\n",
    "    name = \"anonymous\"\n",
    "    \n",
    "    def toyota(self,name):\n",
    "        self.__class__.name = name   # use \"self__class__\" basically mean class \"car\"\n",
    "c1 = car()\n",
    "\n",
    "c1.toyota(\"fortuner\")\n",
    "\n",
    "print(c1.name)\n",
    "print(car.name) "
   ]
  },
  {
   "cell_type": "code",
   "execution_count": 71,
   "id": "3c9f4ed1",
   "metadata": {},
   "outputs": [
    {
     "name": "stdout",
     "output_type": "stream",
     "text": [
      "fortuner\n",
      "fortuner\n"
     ]
    }
   ],
   "source": [
    "# we can is class method by using decorator\n",
    "\n",
    "class car:\n",
    "    name = \"anonymous\"\n",
    "\n",
    "    @classmethod\n",
    "    def toyota (classs, name):   #classs refers to parent classs not self \n",
    "        classs.name = name\n",
    "\n",
    "c1 = car()\n",
    "\n",
    "c1.toyota(\"fortuner\")\n",
    "\n",
    "print(c1.name)\n",
    "print(car.name) \n"
   ]
  },
  {
   "cell_type": "code",
   "execution_count": 72,
   "id": "73efc5c1",
   "metadata": {},
   "outputs": [],
   "source": [
    "# so basically we have 3 types of method\n",
    "\n",
    "# 1. static method is where we dont use any other method attributes (class or instance)\n",
    "\n",
    "# 2. class method is used when we use class method (class)\n",
    "\n",
    "# 3. instance method is where we only use instance attributes i.e self"
   ]
  },
  {
   "cell_type": "code",
   "execution_count": 82,
   "id": "8327a871",
   "metadata": {},
   "outputs": [
    {
     "name": "stdout",
     "output_type": "stream",
     "text": [
      "75.66666666666667%\n",
      "75\n",
      "75.66666666666667%\n"
     ]
    }
   ],
   "source": [
    "# PROPERTY decorator\n",
    "\n",
    "# example\n",
    "\n",
    "class student:\n",
    "    def __init__(self,phy,che,math):\n",
    "        self.phy = phy\n",
    "        self.che = che\n",
    "        self.math = math\n",
    "        self.perc = str((self.phy+self.che+self.math)/3) + \"%\"\n",
    "\n",
    "s1 =student(84,78,65)\n",
    "print(s1.perc)\n",
    "\n",
    "# now if we change the marks . .percentage doe not chaneg\n",
    "\n",
    "s1.phy = 75\n",
    "print(s1.phy)\n",
    "print(s1.perc)"
   ]
  },
  {
   "cell_type": "code",
   "execution_count": 83,
   "id": "a336bd15",
   "metadata": {},
   "outputs": [
    {
     "name": "stdout",
     "output_type": "stream",
     "text": [
      "75.66666666666667%\n",
      "75\n",
      "72.66666666666667%\n"
     ]
    }
   ],
   "source": [
    "\n",
    "class student:\n",
    "    def __init__(self,phy,che,math):\n",
    "        self.phy = phy\n",
    "        self.che = che\n",
    "        self.math = math\n",
    "        \n",
    "    @property                              #property decorator allows attribute to be variable based on the above variable changein marks \n",
    "    def perc(self):\n",
    "        return str((self.phy+self.che+self.math)/3) + \"%\"\n",
    "\n",
    "s1 =student(84,78,65)\n",
    "print(s1.perc)\n",
    "\n",
    "# now if we change the marks ..percentage doe not chaneg\n",
    "\n",
    "s1.phy = 75\n",
    "print(s1.phy)\n",
    "print(s1.perc) "
   ]
  },
  {
   "cell_type": "code",
   "execution_count": 86,
   "id": "25cb394e",
   "metadata": {},
   "outputs": [
    {
     "name": "stdout",
     "output_type": "stream",
     "text": [
      "5 i + 5 j\n"
     ]
    }
   ],
   "source": [
    "# POLYMORPHISM --- When same opertator is allowed to have different meanining according to the context\n",
    "\n",
    "# we have diferent type of DUNDER funcation eg: __add__,__sub__ etc\n",
    "\n",
    "class complex():\n",
    "    def __init__(self,real,img):\n",
    "        self.real = real\n",
    "        self.img = img\n",
    "    def show(self):\n",
    "        print(self.real,\"i +\",self.img,\"j\")\n",
    "\n",
    "c =complex(5,5)\n",
    "c.show()\n",
    "    "
   ]
  },
  {
   "cell_type": "code",
   "execution_count": 91,
   "id": "6a38cfac",
   "metadata": {},
   "outputs": [
    {
     "name": "stdout",
     "output_type": "stream",
     "text": [
      "5 i + 5 j\n",
      "3 i + 3 j\n",
      "8 i + 8 j\n"
     ]
    }
   ],
   "source": [
    "class complex():\n",
    "    def __init__(self,real,img):\n",
    "        self.real = real\n",
    "        self.img = img\n",
    "    \n",
    "    def __add__(self,num2):     #add #num1 and #num2\n",
    "        newreal = self.real + num2.real\n",
    "        newimg = self.img + num2.img\n",
    "        return complex(newreal,newimg)\n",
    "    \n",
    "    def show(self):\n",
    "        print(self.real,\"i +\",self.img,\"j\")\n",
    "\n",
    "c1 = complex(5,5)\n",
    "c1.show()\n",
    "\n",
    "c2 = complex(3,3)\n",
    "c2.show()  \n",
    "\n",
    "add = c1 +c2    # this is possible because of Dunder function __add__\n",
    "add.__add__\n",
    "\n",
    "add.show()\n",
    "\n"
   ]
  },
  {
   "cell_type": "code",
   "execution_count": 107,
   "id": "3f53be0b",
   "metadata": {},
   "outputs": [],
   "source": [
    "class circle():\n",
    "    \n",
    "    def __init__(self,r):\n",
    "        self.r = r\n",
    "\n",
    "    def area(self):\n",
    "        pi = 3.14\n",
    "        self.a = pi * (self.r)**2\n",
    "        print(\"area:\", self.a)\n",
    "\n",
    "    def perimeter(self):\n",
    "        pi = 3.14\n",
    "        self.p=2*pi*self.r\n",
    "        print(\"perimeter:\",self.p)\n",
    "\n"
   ]
  },
  {
   "cell_type": "code",
   "execution_count": 109,
   "id": "477c73fe",
   "metadata": {},
   "outputs": [
    {
     "name": "stdout",
     "output_type": "stream",
     "text": [
      "area: 78.5\n",
      "perimeter: 31.400000000000002\n"
     ]
    }
   ],
   "source": [
    "c1= circle(5)\n",
    "\n",
    "c1.area()\n",
    "c1.perimeter()"
   ]
  },
  {
   "cell_type": "code",
   "execution_count": 118,
   "id": "483904f8",
   "metadata": {},
   "outputs": [],
   "source": [
    "class employee:\n",
    "    def __init__(self,role,department,salary):\n",
    "        self.role = role\n",
    "        self.department = department\n",
    "        self.salary = salary\n",
    "\n",
    "    def showdetails(self):\n",
    "        print(\"Role:\",self.role)\n",
    "        print(\"department:\",self.department)\n",
    "        print(\"salary:\",self.salary)\n",
    "\n",
    "e1 = employee(\"DA\",\"data\",50000)\n",
    "\n",
    "\n"
   ]
  },
  {
   "cell_type": "code",
   "execution_count": 119,
   "id": "2c55b3c3",
   "metadata": {},
   "outputs": [
    {
     "name": "stdout",
     "output_type": "stream",
     "text": [
      "Role: DA\n",
      "department: data\n",
      "salary: 50000\n"
     ]
    }
   ],
   "source": [
    "e1.showdetails()"
   ]
  },
  {
   "cell_type": "code",
   "execution_count": 137,
   "id": "11c4d6b7",
   "metadata": {},
   "outputs": [],
   "source": [
    "class employee:\n",
    "    def __init__(self,role,department,salary):\n",
    "        self.role = role\n",
    "        self.department = department\n",
    "        self.salary = salary\n",
    "\n",
    "    def showdetails(self):\n",
    "        print(\"Role:\",self.role)\n",
    "        print(\"department:\",self.department)\n",
    "        print(\"salary:\",self.salary)\n",
    "\n",
    "class engineer(employee):\n",
    "    def __init__(self,role,department,salary,name,age):\n",
    "        super().__init__(role,department,salary)  #initialilze the parent class\n",
    "        self.name = name\n",
    "        self.age = age\n",
    "\n",
    "    def showdetails(self):\n",
    "        print(\"Name:\", self.name)\n",
    "        print(\"Age:\", self.age)\n",
    "        super().showdetails()   #call parent class method\n",
    "\n",
    "\n"
   ]
  },
  {
   "cell_type": "code",
   "execution_count": 138,
   "id": "f782a848",
   "metadata": {},
   "outputs": [],
   "source": [
    "e1 =engineer(\"DA\",\"IT\",500,\"om\",29)\n"
   ]
  },
  {
   "cell_type": "code",
   "execution_count": 139,
   "id": "e4e18e1c",
   "metadata": {},
   "outputs": [
    {
     "name": "stdout",
     "output_type": "stream",
     "text": [
      "Name: om\n",
      "Age: 29\n",
      "Role: DA\n",
      "department: IT\n",
      "salary: 500\n"
     ]
    }
   ],
   "source": [
    "e1.showdetails()"
   ]
  },
  {
   "cell_type": "code",
   "execution_count": 149,
   "id": "829303e4",
   "metadata": {},
   "outputs": [],
   "source": [
    "class order():\n",
    "    def __init__(self,item,price):\n",
    "        self.item = item\n",
    "        self.price = price\n",
    "    \n",
    "    def __gt__(self,item2):\n",
    "        return self.price > item2.price\n",
    "        \n",
    "it = order(\"chips\",10)\n",
    "em = order(\"potato\",20)\n"
   ]
  },
  {
   "cell_type": "code",
   "execution_count": 150,
   "id": "403c679b",
   "metadata": {},
   "outputs": [
    {
     "name": "stdout",
     "output_type": "stream",
     "text": [
      "False\n"
     ]
    }
   ],
   "source": [
    "print(it>em)"
   ]
  },
  {
   "cell_type": "code",
   "execution_count": 35,
   "id": "b0a24843",
   "metadata": {},
   "outputs": [
    {
     "name": "stdin",
     "output_type": "stream",
     "text": [
      "Guess the number between 1 to 100: 5\n"
     ]
    },
    {
     "name": "stdout",
     "output_type": "stream",
     "text": [
      "number guessed is greater than the lucky number\n"
     ]
    },
    {
     "name": "stdin",
     "output_type": "stream",
     "text": [
      "Guess the number between 1 to 100: 9\n"
     ]
    },
    {
     "name": "stdout",
     "output_type": "stream",
     "text": [
      "number guessed is greater than the lucky number\n"
     ]
    },
    {
     "name": "stdin",
     "output_type": "stream",
     "text": [
      "Guess the number between 1 to 100: 3\n"
     ]
    },
    {
     "name": "stdout",
     "output_type": "stream",
     "text": [
      "You Win\n",
      "Lucky number was: 3\n"
     ]
    }
   ],
   "source": [
    "import random\n",
    "\n",
    "chance = 0\n",
    "random_integer = random.randint(0, 10)\n",
    "while chance <= 2:\n",
    "    n = int(input(\"Guess the number between 1 to 100:\"))\n",
    "    \n",
    "    if (n < 0 or n > 100):\n",
    "        print(\"number out of range\")\n",
    "        chance+=1\n",
    "        \n",
    "    else:\n",
    "         # Generate a random integer between 0 and 100 (inclusive)\n",
    "        if (n == random_integer):\n",
    "            print(\"You Win\")\n",
    "            break\n",
    "            \n",
    "        elif (n > random_integer):\n",
    "            print(\"number guessed is greater than the lucky number\")\n",
    "            chance +=1\n",
    "            \n",
    "        else:\n",
    "            print(\"number guessed is less than the lucky number\")\n",
    "            chance+=1\n",
    "\n",
    "print(\"Lucky number was:\",random_integer) \n"
   ]
  },
  {
   "cell_type": "markdown",
   "id": "bcba4f46-5750-4206-bfd9-6252bf8abc96",
   "metadata": {},
   "source": []
  }
 ],
 "metadata": {
  "kernelspec": {
   "display_name": "Python 3 (ipykernel)",
   "language": "python",
   "name": "python3"
  },
  "language_info": {
   "codemirror_mode": {
    "name": "ipython",
    "version": 3
   },
   "file_extension": ".py",
   "mimetype": "text/x-python",
   "name": "python",
   "nbconvert_exporter": "python",
   "pygments_lexer": "ipython3",
   "version": "3.11.7"
  }
 },
 "nbformat": 4,
 "nbformat_minor": 5
}
